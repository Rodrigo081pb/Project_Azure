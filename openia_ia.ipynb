{
 "cells": [
  {
   "cell_type": "code",
   "execution_count": null,
   "metadata": {},
   "outputs": [],
   "source": [
    "import openai\n",
    "import os\n",
    "\n",
    "# Configuração da API do Azure OpenAI\n",
    "openai.api_type = \"azure\"\n",
    "openai.api_base = \"https://<seu-endpoint>.openai.azure.com/\"\n",
    "openai.api_version = \"2023-03-15-preview\"\n",
    "openai.api_key = \"<sua-chave>\"\n",
    "\n",
    "# Função para gerar texto com IA generativa\n",
    "def gerar_texto(prompt):\n",
    "    resposta = openai.ChatCompletion.create(\n",
    "        engine=\"gpt-4\",  # Use \"gpt-4\" ou \"gpt-3.5-turbo\"\n",
    "        messages=[{\"role\": \"system\", \"content\": \"Você é um assistente útil.\"},\n",
    "                  {\"role\": \"user\", \"content\": prompt}],\n",
    "        max_tokens=500\n",
    "    )\n",
    "    return resposta[\"choices\"][0][\"message\"][\"content\"].strip()\n",
    "\n",
    "# Função para verificar moderação de conteúdo\n",
    "def moderar_conteudo(texto):\n",
    "    resposta = openai.Moderation.create(input=texto)\n",
    "    return resposta[\"results\"][0]\n",
    "\n",
    "if __name__ == \"__main__\":\n",
    "    prompt = \"Explique a importância da IA generativa na automação de processos.\"\n",
    "    texto_gerado = gerar_texto(prompt)\n",
    "    \n",
    "    print(\"Texto Gerado:\")\n",
    "    print(texto_gerado)\n",
    "    \n",
    "    print(\"\\nVerificando moderação de conteúdo...\")\n",
    "    resultado_moderacao = moderar_conteudo(texto_gerado)\n",
    "    print(resultado_moderacao)\n"
   ]
  }
 ],
 "metadata": {
  "language_info": {
   "name": "python"
  }
 },
 "nbformat": 4,
 "nbformat_minor": 2
}

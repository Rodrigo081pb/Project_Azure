{
 "cells": [
  {
   "cell_type": "code",
   "execution_count": null,
   "metadata": {
    "vscode": {
     "languageId": "plaintext"
    }
   },
   "outputs": [],
   "source": [
    "import os\n",
    "import requests\n",
    "import json\n",
    "\n",
    "# Configuração do Azure Language Studio API\n",
    "AZURE_ENDPOINT = \"https://<seu-endpoint>.cognitiveservices.azure.com/\"\n",
    "AZURE_KEY = \"<sua-chave>\"\n",
    "API_URL = f\"{AZURE_ENDPOINT}text/analytics/v3.1/sentiment\"\n",
    "\n",
    "# Headers para autenticação\n",
    "headers = {\n",
    "    \"Ocp-Apim-Subscription-Key\": AZURE_KEY,\n",
    "    \"Content-Type\": \"application/json\"\n",
    "}\n",
    "\n",
    "def analisar_sentimento(texto):\n",
    "    \"\"\"\n",
    "    Envia um texto para o Azure AI Language Studio e retorna a análise de sentimento.\n",
    "    \"\"\"\n",
    "    dados = {\n",
    "        \"documents\": [\n",
    "            {\"id\": \"1\", \"language\": \"pt\", \"text\": texto}\n",
    "        ]\n",
    "    }\n",
    "    \n",
    "    resposta = requests.post(API_URL, headers=headers, data=json.dumps(dados))\n",
    "    resultado = resposta.json()\n",
    "    \n",
    "    if \"documents\" in resultado:\n",
    "        return resultado[\"documents\"][0][\"sentiment\"], resultado[\"documents\"][0][\"confidenceScores\"]\n",
    "    else:\n",
    "        return \"Erro na análise\", resultado\n",
    "\n",
    "if __name__ == \"__main__\":\n",
    "    texto_teste = \"Estou muito feliz com o serviço oferecido!\"\n",
    "    sentimento, confianca = analisar_sentimento(texto_teste)\n",
    "    \n",
    "    print(f\"Texto: {texto_teste}\")\n",
    "    print(f\"Sentimento detectado: {sentimento}\")\n",
    "    print(f\"Confiança: {confianca}\")\n"
   ]
  }
 ],
 "metadata": {
  "language_info": {
   "name": "python"
  }
 },
 "nbformat": 4,
 "nbformat_minor": 2
}
